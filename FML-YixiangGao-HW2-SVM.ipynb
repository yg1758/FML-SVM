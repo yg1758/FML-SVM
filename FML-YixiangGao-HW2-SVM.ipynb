{
 "cells": [
  {
   "cell_type": "code",
   "execution_count": 436,
   "metadata": {},
   "outputs": [],
   "source": [
    "from ctypes import *\n",
    "from ctypes.util import find_library\n",
    "from os import path\n",
    "import sys\n",
    "import pandas as pd\n",
    "import os\n",
    "import numpy as np\n",
    "import matplotlib.pyplot as plt"
   ]
  },
  {
   "cell_type": "code",
   "execution_count": 5,
   "metadata": {},
   "outputs": [],
   "source": [
    "windll.kernel32.GetModuleHandleW(0)\n",
    "MyDllObject = ctypes.cdll.LoadLibrary(\"C:\\\\Users\\\\YixiangGao\\\\Desktop\\\\Nephele\\\\Deep Learning\\\\IC ML\\\\libsvm.dll\")"
   ]
  },
  {
   "cell_type": "markdown",
   "metadata": {},
   "source": [
    "<h2> 1. Download and Process the Data <h\\2> "
   ]
  },
  {
   "cell_type": "markdown",
   "metadata": {},
   "source": [
    "Step 1: read the data into dataframe \n",
    "\n",
    "Step 2: Label the 'Sex' feature with numerical type: M: +1, F: 0, I: -1.\n",
    "\n",
    "Step 3: Label y-value ('Rings') with binary classification: (Rings >= 9): 1,  (Rings < 9): -1\n",
    "\n",
    "Step 4: Format the data in the way shown in \"scale_heart\" and make the feature data ready to get scaled  "
   ]
  },
  {
   "cell_type": "code",
   "execution_count": 563,
   "metadata": {},
   "outputs": [
    {
     "data": {
      "text/html": [
       "<div>\n",
       "<style scoped>\n",
       "    .dataframe tbody tr th:only-of-type {\n",
       "        vertical-align: middle;\n",
       "    }\n",
       "\n",
       "    .dataframe tbody tr th {\n",
       "        vertical-align: top;\n",
       "    }\n",
       "\n",
       "    .dataframe thead th {\n",
       "        text-align: right;\n",
       "    }\n",
       "</style>\n",
       "<table border=\"1\" class=\"dataframe\">\n",
       "  <thead>\n",
       "    <tr style=\"text-align: right;\">\n",
       "      <th></th>\n",
       "      <th>Rings</th>\n",
       "      <th>Sex</th>\n",
       "      <th>Length</th>\n",
       "      <th>Diameter</th>\n",
       "      <th>Height</th>\n",
       "      <th>Whole weight</th>\n",
       "      <th>Shucked weight</th>\n",
       "      <th>Viscera weight</th>\n",
       "      <th>Shell weight</th>\n",
       "    </tr>\n",
       "  </thead>\n",
       "  <tbody>\n",
       "    <tr>\n",
       "      <th>0</th>\n",
       "      <td>15</td>\n",
       "      <td>M</td>\n",
       "      <td>0.455</td>\n",
       "      <td>0.365</td>\n",
       "      <td>0.095</td>\n",
       "      <td>0.5140</td>\n",
       "      <td>0.2245</td>\n",
       "      <td>0.1010</td>\n",
       "      <td>0.150</td>\n",
       "    </tr>\n",
       "    <tr>\n",
       "      <th>1</th>\n",
       "      <td>7</td>\n",
       "      <td>M</td>\n",
       "      <td>0.350</td>\n",
       "      <td>0.265</td>\n",
       "      <td>0.090</td>\n",
       "      <td>0.2255</td>\n",
       "      <td>0.0995</td>\n",
       "      <td>0.0485</td>\n",
       "      <td>0.070</td>\n",
       "    </tr>\n",
       "    <tr>\n",
       "      <th>2</th>\n",
       "      <td>9</td>\n",
       "      <td>F</td>\n",
       "      <td>0.530</td>\n",
       "      <td>0.420</td>\n",
       "      <td>0.135</td>\n",
       "      <td>0.6770</td>\n",
       "      <td>0.2565</td>\n",
       "      <td>0.1415</td>\n",
       "      <td>0.210</td>\n",
       "    </tr>\n",
       "    <tr>\n",
       "      <th>3</th>\n",
       "      <td>10</td>\n",
       "      <td>M</td>\n",
       "      <td>0.440</td>\n",
       "      <td>0.365</td>\n",
       "      <td>0.125</td>\n",
       "      <td>0.5160</td>\n",
       "      <td>0.2155</td>\n",
       "      <td>0.1140</td>\n",
       "      <td>0.155</td>\n",
       "    </tr>\n",
       "    <tr>\n",
       "      <th>4</th>\n",
       "      <td>7</td>\n",
       "      <td>I</td>\n",
       "      <td>0.330</td>\n",
       "      <td>0.255</td>\n",
       "      <td>0.080</td>\n",
       "      <td>0.2050</td>\n",
       "      <td>0.0895</td>\n",
       "      <td>0.0395</td>\n",
       "      <td>0.055</td>\n",
       "    </tr>\n",
       "  </tbody>\n",
       "</table>\n",
       "</div>"
      ],
      "text/plain": [
       "   Rings Sex  Length  Diameter  Height  Whole weight  Shucked weight  \\\n",
       "0     15   M   0.455     0.365   0.095        0.5140          0.2245   \n",
       "1      7   M   0.350     0.265   0.090        0.2255          0.0995   \n",
       "2      9   F   0.530     0.420   0.135        0.6770          0.2565   \n",
       "3     10   M   0.440     0.365   0.125        0.5160          0.2155   \n",
       "4      7   I   0.330     0.255   0.080        0.2050          0.0895   \n",
       "\n",
       "   Viscera weight  Shell weight  \n",
       "0          0.1010         0.150  \n",
       "1          0.0485         0.070  \n",
       "2          0.1415         0.210  \n",
       "3          0.1140         0.155  \n",
       "4          0.0395         0.055  "
      ]
     },
     "execution_count": 563,
     "metadata": {},
     "output_type": "execute_result"
    }
   ],
   "source": [
    "# Step 1 \n",
    "\n",
    "cols = ['Sex', 'Length', 'Diameter', 'Height', 'Whole weight', 'Shucked weight', 'Viscera weight', 'Shell weight', 'Rings']\n",
    "df = pd.read_csv('abalone.csv', names = cols)\n",
    "cols_order = ['Rings','Sex', 'Length', 'Diameter', 'Height', 'Whole weight', 'Shucked weight', 'Viscera weight', 'Shell weight']\n",
    "df = df[cols_order]\n",
    "df.head()"
   ]
  },
  {
   "cell_type": "code",
   "execution_count": 564,
   "metadata": {},
   "outputs": [
    {
     "data": {
      "text/html": [
       "<div>\n",
       "<style scoped>\n",
       "    .dataframe tbody tr th:only-of-type {\n",
       "        vertical-align: middle;\n",
       "    }\n",
       "\n",
       "    .dataframe tbody tr th {\n",
       "        vertical-align: top;\n",
       "    }\n",
       "\n",
       "    .dataframe thead th {\n",
       "        text-align: right;\n",
       "    }\n",
       "</style>\n",
       "<table border=\"1\" class=\"dataframe\">\n",
       "  <thead>\n",
       "    <tr style=\"text-align: right;\">\n",
       "      <th></th>\n",
       "      <th>Rings</th>\n",
       "      <th>Sex</th>\n",
       "      <th>Length</th>\n",
       "      <th>Diameter</th>\n",
       "      <th>Height</th>\n",
       "      <th>Whole weight</th>\n",
       "      <th>Shucked weight</th>\n",
       "      <th>Viscera weight</th>\n",
       "      <th>Shell weight</th>\n",
       "      <th>Sex_label</th>\n",
       "      <th>Rings_label</th>\n",
       "    </tr>\n",
       "  </thead>\n",
       "  <tbody>\n",
       "    <tr>\n",
       "      <th>0</th>\n",
       "      <td>15</td>\n",
       "      <td>M</td>\n",
       "      <td>0.455</td>\n",
       "      <td>0.365</td>\n",
       "      <td>0.095</td>\n",
       "      <td>0.5140</td>\n",
       "      <td>0.2245</td>\n",
       "      <td>0.1010</td>\n",
       "      <td>0.150</td>\n",
       "      <td>1</td>\n",
       "      <td>1</td>\n",
       "    </tr>\n",
       "    <tr>\n",
       "      <th>1</th>\n",
       "      <td>7</td>\n",
       "      <td>M</td>\n",
       "      <td>0.350</td>\n",
       "      <td>0.265</td>\n",
       "      <td>0.090</td>\n",
       "      <td>0.2255</td>\n",
       "      <td>0.0995</td>\n",
       "      <td>0.0485</td>\n",
       "      <td>0.070</td>\n",
       "      <td>1</td>\n",
       "      <td>-1</td>\n",
       "    </tr>\n",
       "    <tr>\n",
       "      <th>2</th>\n",
       "      <td>9</td>\n",
       "      <td>F</td>\n",
       "      <td>0.530</td>\n",
       "      <td>0.420</td>\n",
       "      <td>0.135</td>\n",
       "      <td>0.6770</td>\n",
       "      <td>0.2565</td>\n",
       "      <td>0.1415</td>\n",
       "      <td>0.210</td>\n",
       "      <td>-1</td>\n",
       "      <td>1</td>\n",
       "    </tr>\n",
       "    <tr>\n",
       "      <th>3</th>\n",
       "      <td>10</td>\n",
       "      <td>M</td>\n",
       "      <td>0.440</td>\n",
       "      <td>0.365</td>\n",
       "      <td>0.125</td>\n",
       "      <td>0.5160</td>\n",
       "      <td>0.2155</td>\n",
       "      <td>0.1140</td>\n",
       "      <td>0.155</td>\n",
       "      <td>1</td>\n",
       "      <td>1</td>\n",
       "    </tr>\n",
       "    <tr>\n",
       "      <th>4</th>\n",
       "      <td>7</td>\n",
       "      <td>I</td>\n",
       "      <td>0.330</td>\n",
       "      <td>0.255</td>\n",
       "      <td>0.080</td>\n",
       "      <td>0.2050</td>\n",
       "      <td>0.0895</td>\n",
       "      <td>0.0395</td>\n",
       "      <td>0.055</td>\n",
       "      <td>0</td>\n",
       "      <td>-1</td>\n",
       "    </tr>\n",
       "  </tbody>\n",
       "</table>\n",
       "</div>"
      ],
      "text/plain": [
       "   Rings Sex  Length  Diameter  Height  Whole weight  Shucked weight  \\\n",
       "0     15   M   0.455     0.365   0.095        0.5140          0.2245   \n",
       "1      7   M   0.350     0.265   0.090        0.2255          0.0995   \n",
       "2      9   F   0.530     0.420   0.135        0.6770          0.2565   \n",
       "3     10   M   0.440     0.365   0.125        0.5160          0.2155   \n",
       "4      7   I   0.330     0.255   0.080        0.2050          0.0895   \n",
       "\n",
       "   Viscera weight  Shell weight  Sex_label  Rings_label  \n",
       "0          0.1010         0.150          1            1  \n",
       "1          0.0485         0.070          1           -1  \n",
       "2          0.1415         0.210         -1            1  \n",
       "3          0.1140         0.155          1            1  \n",
       "4          0.0395         0.055          0           -1  "
      ]
     },
     "execution_count": 564,
     "metadata": {},
     "output_type": "execute_result"
    }
   ],
   "source": [
    "# Step 2 & 3: \n",
    "sex_label = {'M': 1, \"F\": -1, \"I\": 0}\n",
    "\n",
    "def label_sex(s):\n",
    "    return sex_label[s]\n",
    "\n",
    "def label_ring(r):\n",
    "    if r >= 9:\n",
    "        return 1\n",
    "    else:\n",
    "        return -1\n",
    "\n",
    "df['Sex_label'] = df['Sex'].apply(lambda x: label_sex(x))\n",
    "df['Rings_label'] = df['Rings'].apply(lambda x: label_ring(x))\n",
    "df.head()"
   ]
  },
  {
   "cell_type": "code",
   "execution_count": 565,
   "metadata": {},
   "outputs": [
    {
     "data": {
      "text/html": [
       "<div>\n",
       "<style scoped>\n",
       "    .dataframe tbody tr th:only-of-type {\n",
       "        vertical-align: middle;\n",
       "    }\n",
       "\n",
       "    .dataframe tbody tr th {\n",
       "        vertical-align: top;\n",
       "    }\n",
       "\n",
       "    .dataframe thead th {\n",
       "        text-align: right;\n",
       "    }\n",
       "</style>\n",
       "<table border=\"1\" class=\"dataframe\">\n",
       "  <thead>\n",
       "    <tr style=\"text-align: right;\">\n",
       "      <th></th>\n",
       "      <th>Rings_label</th>\n",
       "      <th>Sex_label</th>\n",
       "      <th>Length</th>\n",
       "      <th>Diameter</th>\n",
       "      <th>Height</th>\n",
       "      <th>Whole weight</th>\n",
       "      <th>Shucked weight</th>\n",
       "      <th>Viscera weight</th>\n",
       "      <th>Shell weight</th>\n",
       "    </tr>\n",
       "  </thead>\n",
       "  <tbody>\n",
       "    <tr>\n",
       "      <th>0</th>\n",
       "      <td>1</td>\n",
       "      <td>1</td>\n",
       "      <td>0.455</td>\n",
       "      <td>0.365</td>\n",
       "      <td>0.095</td>\n",
       "      <td>0.5140</td>\n",
       "      <td>0.2245</td>\n",
       "      <td>0.1010</td>\n",
       "      <td>0.150</td>\n",
       "    </tr>\n",
       "    <tr>\n",
       "      <th>1</th>\n",
       "      <td>-1</td>\n",
       "      <td>1</td>\n",
       "      <td>0.350</td>\n",
       "      <td>0.265</td>\n",
       "      <td>0.090</td>\n",
       "      <td>0.2255</td>\n",
       "      <td>0.0995</td>\n",
       "      <td>0.0485</td>\n",
       "      <td>0.070</td>\n",
       "    </tr>\n",
       "    <tr>\n",
       "      <th>2</th>\n",
       "      <td>1</td>\n",
       "      <td>-1</td>\n",
       "      <td>0.530</td>\n",
       "      <td>0.420</td>\n",
       "      <td>0.135</td>\n",
       "      <td>0.6770</td>\n",
       "      <td>0.2565</td>\n",
       "      <td>0.1415</td>\n",
       "      <td>0.210</td>\n",
       "    </tr>\n",
       "    <tr>\n",
       "      <th>3</th>\n",
       "      <td>1</td>\n",
       "      <td>1</td>\n",
       "      <td>0.440</td>\n",
       "      <td>0.365</td>\n",
       "      <td>0.125</td>\n",
       "      <td>0.5160</td>\n",
       "      <td>0.2155</td>\n",
       "      <td>0.1140</td>\n",
       "      <td>0.155</td>\n",
       "    </tr>\n",
       "    <tr>\n",
       "      <th>4</th>\n",
       "      <td>-1</td>\n",
       "      <td>0</td>\n",
       "      <td>0.330</td>\n",
       "      <td>0.255</td>\n",
       "      <td>0.080</td>\n",
       "      <td>0.2050</td>\n",
       "      <td>0.0895</td>\n",
       "      <td>0.0395</td>\n",
       "      <td>0.055</td>\n",
       "    </tr>\n",
       "  </tbody>\n",
       "</table>\n",
       "</div>"
      ],
      "text/plain": [
       "   Rings_label  Sex_label  Length  Diameter  Height  Whole weight  \\\n",
       "0            1          1   0.455     0.365   0.095        0.5140   \n",
       "1           -1          1   0.350     0.265   0.090        0.2255   \n",
       "2            1         -1   0.530     0.420   0.135        0.6770   \n",
       "3            1          1   0.440     0.365   0.125        0.5160   \n",
       "4           -1          0   0.330     0.255   0.080        0.2050   \n",
       "\n",
       "   Shucked weight  Viscera weight  Shell weight  \n",
       "0          0.2245          0.1010         0.150  \n",
       "1          0.0995          0.0485         0.070  \n",
       "2          0.2565          0.1415         0.210  \n",
       "3          0.2155          0.1140         0.155  \n",
       "4          0.0895          0.0395         0.055  "
      ]
     },
     "metadata": {},
     "output_type": "display_data"
    }
   ],
   "source": [
    "# Step 4:\n",
    "\n",
    "col_order_2 = ['Rings_label','Sex_label', 'Length', 'Diameter', 'Height', 'Whole weight', 'Shucked weight', 'Viscera weight', 'Shell weight']\n",
    "df_prescale =  df[col_order_2]\n",
    "display(df_prescale.head())"
   ]
  },
  {
   "cell_type": "code",
   "execution_count": 538,
   "metadata": {},
   "outputs": [
    {
     "data": {
      "text/plain": [
       "'Rings_label 1: Sex_label 2: Length 3: Diameter 4: Height 5: Whole weight 6: Shucked weight 7: Viscera weight 8: Shell weight '"
      ]
     },
     "execution_count": 538,
     "metadata": {},
     "output_type": "execute_result"
    }
   ],
   "source": [
    "# Step 4 (cont')\n",
    "\n",
    "format_str = [str(a) + ': {'+str(a)+'} ' for a in range(1,9)]\n",
    "s = '{0} ' + ''.join(format_str)\n",
    "\n",
    "s.format('Rings_label','Sex_label', 'Length', 'Diameter', 'Height', 'Whole weight', 'Shucked weight', 'Viscera weight', 'Shell weight')"
   ]
  },
  {
   "cell_type": "code",
   "execution_count": 539,
   "metadata": {},
   "outputs": [
    {
     "data": {
      "text/plain": [
       "0    1.0 1: 1.0 2: 0.455 3: 0.365 4: 0.095 5: 0.514...\n",
       "1    -1.0 1: 1.0 2: 0.35 3: 0.265 4: 0.09 5: 0.2255...\n",
       "2    1.0 1: -1.0 2: 0.53 3: 0.42 4: 0.135 5: 0.677 ...\n",
       "dtype: object"
      ]
     },
     "execution_count": 539,
     "metadata": {},
     "output_type": "execute_result"
    }
   ],
   "source": [
    "def format(row):\n",
    "    rv = row.values\n",
    "    return s.format(*tuple(rv))\n",
    "\n",
    "# for example, the first 3 rows of the df:\n",
    "df_prescale.iloc[0:3].apply(lambda x: format(x), axis = 1)"
   ]
  },
  {
   "cell_type": "code",
   "execution_count": 540,
   "metadata": {},
   "outputs": [],
   "source": [
    "# train-test split \n",
    "train_df = df_prescale.iloc[:3133]\n",
    "test_df = df_prescale.iloc[3133:]"
   ]
  },
  {
   "cell_type": "code",
   "execution_count": 543,
   "metadata": {},
   "outputs": [],
   "source": [
    "train_txt = train_df.apply(lambda x: format(x), axis = 1)\n",
    "np.savetxt('train.data', train_txt.values, fmt='%s')\n",
    "test_txt = test_df.apply(lambda x: format(x), axis = 1)\n",
    "np.savetxt('test.data', test_txt.values, fmt='%s')"
   ]
  },
  {
   "cell_type": "code",
   "execution_count": 547,
   "metadata": {},
   "outputs": [],
   "source": [
    "train_scaled, test_scaled = pd.read_csv('train_scaled.data'), pd.read_csv('test_scaled.data')"
   ]
  },
  {
   "cell_type": "code",
   "execution_count": 374,
   "metadata": {},
   "outputs": [],
   "source": [
    "y, X = svm_read_problem('train_scaled.data')"
   ]
  },
  {
   "cell_type": "code",
   "execution_count": 548,
   "metadata": {},
   "outputs": [],
   "source": [
    "cv_acc = pd.DataFrame(columns = ['d=1', 'd=2', 'd=3', 'd=4'], index = [i for i in range(-10,11)])\n",
    "cv_acc.index.name = 'C'"
   ]
  },
  {
   "cell_type": "code",
   "execution_count": 549,
   "metadata": {},
   "outputs": [
    {
     "data": {
      "text/html": [
       "<div>\n",
       "<style scoped>\n",
       "    .dataframe tbody tr th:only-of-type {\n",
       "        vertical-align: middle;\n",
       "    }\n",
       "\n",
       "    .dataframe tbody tr th {\n",
       "        vertical-align: top;\n",
       "    }\n",
       "\n",
       "    .dataframe thead th {\n",
       "        text-align: right;\n",
       "    }\n",
       "</style>\n",
       "<table border=\"1\" class=\"dataframe\">\n",
       "  <thead>\n",
       "    <tr style=\"text-align: right;\">\n",
       "      <th></th>\n",
       "      <th>d=1</th>\n",
       "      <th>d=2</th>\n",
       "      <th>d=3</th>\n",
       "      <th>d=4</th>\n",
       "    </tr>\n",
       "    <tr>\n",
       "      <th>C</th>\n",
       "      <th></th>\n",
       "      <th></th>\n",
       "      <th></th>\n",
       "      <th></th>\n",
       "    </tr>\n",
       "  </thead>\n",
       "  <tbody>\n",
       "    <tr>\n",
       "      <th>-10</th>\n",
       "      <td>NaN</td>\n",
       "      <td>NaN</td>\n",
       "      <td>NaN</td>\n",
       "      <td>NaN</td>\n",
       "    </tr>\n",
       "    <tr>\n",
       "      <th>-9</th>\n",
       "      <td>NaN</td>\n",
       "      <td>NaN</td>\n",
       "      <td>NaN</td>\n",
       "      <td>NaN</td>\n",
       "    </tr>\n",
       "    <tr>\n",
       "      <th>-8</th>\n",
       "      <td>NaN</td>\n",
       "      <td>NaN</td>\n",
       "      <td>NaN</td>\n",
       "      <td>NaN</td>\n",
       "    </tr>\n",
       "    <tr>\n",
       "      <th>-7</th>\n",
       "      <td>NaN</td>\n",
       "      <td>NaN</td>\n",
       "      <td>NaN</td>\n",
       "      <td>NaN</td>\n",
       "    </tr>\n",
       "    <tr>\n",
       "      <th>-6</th>\n",
       "      <td>NaN</td>\n",
       "      <td>NaN</td>\n",
       "      <td>NaN</td>\n",
       "      <td>NaN</td>\n",
       "    </tr>\n",
       "  </tbody>\n",
       "</table>\n",
       "</div>"
      ],
      "text/plain": [
       "     d=1  d=2  d=3  d=4\n",
       "C                      \n",
       "-10  NaN  NaN  NaN  NaN\n",
       "-9   NaN  NaN  NaN  NaN\n",
       "-8   NaN  NaN  NaN  NaN\n",
       "-7   NaN  NaN  NaN  NaN\n",
       "-6   NaN  NaN  NaN  NaN"
      ]
     },
     "execution_count": 549,
     "metadata": {},
     "output_type": "execute_result"
    }
   ],
   "source": [
    "cv_acc.head()"
   ]
  },
  {
   "cell_type": "code",
   "execution_count": 550,
   "metadata": {
    "collapsed": true,
    "jupyter": {
     "outputs_hidden": true
    }
   },
   "outputs": [
    {
     "name": "stdout",
     "output_type": "stream",
     "text": [
      "Cross Validation Accuracy = 65.6559%\n",
      "Cross Validation Accuracy = 65.6559%\n",
      "Cross Validation Accuracy = 65.6559%\n",
      "Cross Validation Accuracy = 65.7836%\n",
      "Cross Validation Accuracy = 78.4552%\n",
      "Cross Validation Accuracy = 80.6575%\n",
      "Cross Validation Accuracy = 81.232%\n",
      "Cross Validation Accuracy = 80.9767%\n",
      "Cross Validation Accuracy = 81.264%\n",
      "Cross Validation Accuracy = 81.6789%\n",
      "Cross Validation Accuracy = 82.1258%\n",
      "Cross Validation Accuracy = 82.5407%\n",
      "Cross Validation Accuracy = 83.2429%\n",
      "Cross Validation Accuracy = 83.3387%\n",
      "Cross Validation Accuracy = 83.3706%\n",
      "Cross Validation Accuracy = 83.3706%\n",
      "Cross Validation Accuracy = 83.4025%\n",
      "Cross Validation Accuracy = 83.3067%\n",
      "Cross Validation Accuracy = 83.4344%\n",
      "Cross Validation Accuracy = 83.3067%\n",
      "Cross Validation Accuracy = 83.3706%\n",
      "Cross Validation Accuracy = 65.6559%\n",
      "Cross Validation Accuracy = 65.6559%\n",
      "Cross Validation Accuracy = 65.6559%\n",
      "Cross Validation Accuracy = 65.7198%\n",
      "Cross Validation Accuracy = 76.6677%\n",
      "Cross Validation Accuracy = 80.4022%\n",
      "Cross Validation Accuracy = 81.4236%\n",
      "Cross Validation Accuracy = 81.4874%\n",
      "Cross Validation Accuracy = 82.1896%\n",
      "Cross Validation Accuracy = 82.6365%\n",
      "Cross Validation Accuracy = 83.1152%\n",
      "Cross Validation Accuracy = 83.2748%\n",
      "Cross Validation Accuracy = 83.3067%\n",
      "Cross Validation Accuracy = 83.211%\n",
      "Cross Validation Accuracy = 83.6578%\n",
      "Cross Validation Accuracy = 83.8493%\n",
      "Cross Validation Accuracy = 84.1366%\n",
      "Cross Validation Accuracy = 84.0728%\n",
      "Cross Validation Accuracy = 84.1685%\n",
      "Cross Validation Accuracy = 84.36%\n",
      "Cross Validation Accuracy = 84.392%\n",
      "Cross Validation Accuracy = 65.6559%\n",
      "Cross Validation Accuracy = 65.6559%\n",
      "Cross Validation Accuracy = 65.6559%\n",
      "Cross Validation Accuracy = 65.6559%\n",
      "Cross Validation Accuracy = 69.3584%\n",
      "Cross Validation Accuracy = 76.7635%\n",
      "Cross Validation Accuracy = 79.5404%\n",
      "Cross Validation Accuracy = 81.0405%\n",
      "Cross Validation Accuracy = 81.7108%\n",
      "Cross Validation Accuracy = 82.0938%\n",
      "Cross Validation Accuracy = 82.5088%\n",
      "Cross Validation Accuracy = 82.796%\n",
      "Cross Validation Accuracy = 83.211%\n",
      "Cross Validation Accuracy = 83.0195%\n",
      "Cross Validation Accuracy = 83.1791%\n",
      "Cross Validation Accuracy = 83.1471%\n",
      "Cross Validation Accuracy = 83.7217%\n",
      "Cross Validation Accuracy = 83.8493%\n",
      "Cross Validation Accuracy = 84.0409%\n",
      "Cross Validation Accuracy = 84.2643%\n",
      "Cross Validation Accuracy = 84.36%\n",
      "Cross Validation Accuracy = 65.6559%\n",
      "Cross Validation Accuracy = 65.6559%\n",
      "Cross Validation Accuracy = 65.6559%\n",
      "Cross Validation Accuracy = 65.6559%\n",
      "Cross Validation Accuracy = 65.7198%\n",
      "Cross Validation Accuracy = 71.5608%\n",
      "Cross Validation Accuracy = 76.3166%\n",
      "Cross Validation Accuracy = 79.0616%\n",
      "Cross Validation Accuracy = 80.5298%\n",
      "Cross Validation Accuracy = 81.4555%\n",
      "Cross Validation Accuracy = 81.7427%\n",
      "Cross Validation Accuracy = 82.1258%\n",
      "Cross Validation Accuracy = 82.6045%\n",
      "Cross Validation Accuracy = 82.6045%\n",
      "Cross Validation Accuracy = 82.4449%\n",
      "Cross Validation Accuracy = 82.9556%\n",
      "Cross Validation Accuracy = 83.4663%\n",
      "Cross Validation Accuracy = 84.0409%\n",
      "Cross Validation Accuracy = 83.9451%\n",
      "Cross Validation Accuracy = 83.7855%\n",
      "Cross Validation Accuracy = 83.977%\n"
     ]
    }
   ],
   "source": [
    "d_list = [1,2,3,4]\n",
    "c_list = [2**(i) for i in range(-10,11)]\n",
    "\n",
    "for i in range(4):\n",
    "    result = []\n",
    "    d = i+1\n",
    "    for c in range(-10,11):\n",
    "        result.append(svm_train(y, X, '-t 1 -d '+str(d) +' -c '+str(2**(c)) +' -v 10'))\n",
    "    cv_acc.iloc[:,i] = result"
   ]
  },
  {
   "cell_type": "code",
   "execution_count": 551,
   "metadata": {},
   "outputs": [
    {
     "data": {
      "text/html": [
       "<div>\n",
       "<style scoped>\n",
       "    .dataframe tbody tr th:only-of-type {\n",
       "        vertical-align: middle;\n",
       "    }\n",
       "\n",
       "    .dataframe tbody tr th {\n",
       "        vertical-align: top;\n",
       "    }\n",
       "\n",
       "    .dataframe thead th {\n",
       "        text-align: right;\n",
       "    }\n",
       "</style>\n",
       "<table border=\"1\" class=\"dataframe\">\n",
       "  <thead>\n",
       "    <tr style=\"text-align: right;\">\n",
       "      <th></th>\n",
       "      <th>d=1</th>\n",
       "      <th>d=2</th>\n",
       "      <th>d=3</th>\n",
       "      <th>d=4</th>\n",
       "    </tr>\n",
       "    <tr>\n",
       "      <th>C</th>\n",
       "      <th></th>\n",
       "      <th></th>\n",
       "      <th></th>\n",
       "      <th></th>\n",
       "    </tr>\n",
       "  </thead>\n",
       "  <tbody>\n",
       "    <tr>\n",
       "      <th>-10</th>\n",
       "      <td>0.343441</td>\n",
       "      <td>0.343441</td>\n",
       "      <td>0.343441</td>\n",
       "      <td>0.343441</td>\n",
       "    </tr>\n",
       "    <tr>\n",
       "      <th>-9</th>\n",
       "      <td>0.343441</td>\n",
       "      <td>0.343441</td>\n",
       "      <td>0.343441</td>\n",
       "      <td>0.343441</td>\n",
       "    </tr>\n",
       "    <tr>\n",
       "      <th>-8</th>\n",
       "      <td>0.343441</td>\n",
       "      <td>0.343441</td>\n",
       "      <td>0.343441</td>\n",
       "      <td>0.343441</td>\n",
       "    </tr>\n",
       "    <tr>\n",
       "      <th>-7</th>\n",
       "      <td>0.342164</td>\n",
       "      <td>0.342802</td>\n",
       "      <td>0.343441</td>\n",
       "      <td>0.343441</td>\n",
       "    </tr>\n",
       "    <tr>\n",
       "      <th>-6</th>\n",
       "      <td>0.215448</td>\n",
       "      <td>0.233323</td>\n",
       "      <td>0.306416</td>\n",
       "      <td>0.342802</td>\n",
       "    </tr>\n",
       "  </tbody>\n",
       "</table>\n",
       "</div>"
      ],
      "text/plain": [
       "          d=1       d=2       d=3       d=4\n",
       "C                                          \n",
       "-10  0.343441  0.343441  0.343441  0.343441\n",
       "-9   0.343441  0.343441  0.343441  0.343441\n",
       "-8   0.343441  0.343441  0.343441  0.343441\n",
       "-7   0.342164  0.342802  0.343441  0.343441\n",
       "-6   0.215448  0.233323  0.306416  0.342802"
      ]
     },
     "execution_count": 551,
     "metadata": {},
     "output_type": "execute_result"
    }
   ],
   "source": [
    "# calculate the cv-errors:\n",
    "\n",
    "cv_err = cv_acc.transform(lambda x: 1-x/100)\n",
    "cv_err.head()"
   ]
  },
  {
   "cell_type": "code",
   "execution_count": 552,
   "metadata": {},
   "outputs": [
    {
     "data": {
      "image/png": "[encoded data removed]",
      "text/plain": [
       "<Figure size 432x288 with 1 Axes>"
      ]
     },
     "metadata": {
      "needs_background": "light"
     },
     "output_type": "display_data"
    },
    {
     "data": {
      "image/png": "[encoded data removed]",
      "text/plain": [
       "<Figure size 432x288 with 1 Axes>"
      ]
     },
     "metadata": {
      "needs_background": "light"
     },
     "output_type": "display_data"
    },
    {
     "data": {
      "image/png": "[encoded data removed]",
      "text/plain": [
       "<Figure size 432x288 with 1 Axes>"
      ]
     },
     "metadata": {
      "needs_background": "light"
     },
     "output_type": "display_data"
    },
    {
     "data": {
      "image/png": "[encoded data removed]",
      "text/plain": [
       "<Figure size 432x288 with 1 Axes>"
      ]
     },
     "metadata": {
      "needs_background": "light"
     },
     "output_type": "display_data"
    }
   ],
   "source": [
    "for i in range(4):\n",
    "    std = cv_err.iloc[:,i].std()\n",
    "    plt.plot(cv_err.index, cv_err.iloc[:,i] + std)\n",
    "    plt.plot(cv_err.index, cv_err.iloc[:,i])\n",
    "    plt.plot(cv_err.index, cv_err.iloc[:,i] - std)\n",
    "    \n",
    "    plt.legend(['error + 1 std', 'error','error - 1 std'])\n",
    "    plt.title('d='+str(i+1))\n",
    "    plt.show()"
   ]
  },
  {
   "cell_type": "code",
   "execution_count": 553,
   "metadata": {},
   "outputs": [
    {
     "name": "stdout",
     "output_type": "stream",
     "text": [
      "global min is: \n"
     ]
    },
    {
     "data": {
      "text/plain": [
       "(10, 'd=2')"
      ]
     },
     "execution_count": 553,
     "metadata": {},
     "output_type": "execute_result"
    }
   ],
   "source": [
    "# locate the global min\n",
    "print('global min is: ')\n",
    "(cv_err.min(axis=1).idxmin(), cv_err.min().idxmin())"
   ]
  },
  {
   "cell_type": "code",
   "execution_count": 554,
   "metadata": {},
   "outputs": [],
   "source": [
    "model = svm_train(y, X, '-t 1 -d 2 -c 1024')"
   ]
  },
  {
   "cell_type": "code",
   "execution_count": 555,
   "metadata": {},
   "outputs": [
    {
     "data": {
      "text/plain": [
       "<svm.svm_model at 0x227d4cab540>"
      ]
     },
     "execution_count": 555,
     "metadata": {},
     "output_type": "execute_result"
    }
   ],
   "source": [
    "model"
   ]
  },
  {
   "cell_type": "code",
   "execution_count": 556,
   "metadata": {},
   "outputs": [
    {
     "name": "stdout",
     "output_type": "stream",
     "text": [
      "From the data file, the total number of support vector is 1287\n"
     ]
    }
   ],
   "source": [
    "svm_save_model('model.data', model)\n",
    "print('From the data file, the total number of support vector is 1287')"
   ]
  },
  {
   "cell_type": "code",
   "execution_count": 557,
   "metadata": {},
   "outputs": [
    {
     "name": "stdout",
     "output_type": "stream",
     "text": [
      "Accuracy = 61.3985% (641/1044) (classification)\n"
     ]
    },
    {
     "data": {
      "text/plain": [
       "1.0"
      ]
     },
     "execution_count": 557,
     "metadata": {},
     "output_type": "execute_result"
    }
   ],
   "source": [
    "y_t, X_t = svm_read_problem('test_scaled.data')\n",
    "s = svm_predict(y_t, X_t, model)\n",
    "s[0][0]"
   ]
  },
  {
   "cell_type": "code",
   "execution_count": 558,
   "metadata": {},
   "outputs": [
    {
     "name": "stdout",
     "output_type": "stream",
     "text": [
      "Accuracy = 74.0421% (773/1044) (classification)\n",
      "Accuracy = 61.3985% (641/1044) (classification)\n",
      "Accuracy = 71.5517% (747/1044) (classification)\n",
      "Accuracy = 46.6475% (487/1044) (classification)\n"
     ]
    }
   ],
   "source": [
    "plot_y_1 = cv_err.loc[10]\n",
    "plot_y_2 = []\n",
    "\n",
    "for i in range(4):\n",
    "    d = i+1\n",
    "    model = svm_train(y, X, '-t 1 -d '+str(d) +' -c 1024')\n",
    "    test_err = svm_predict(y_t, X_t, model)\n",
    "    plot_y_2.append(1 - test_err[1][0]/100)"
   ]
  },
  {
   "cell_type": "code",
   "execution_count": 568,
   "metadata": {},
   "outputs": [
    {
     "data": {
      "text/plain": [
       "[0.25957854406130265,\n",
       " 0.3860153256704981,\n",
       " 0.2844827586206897,\n",
       " 0.5335249042145593]"
      ]
     },
     "execution_count": 568,
     "metadata": {},
     "output_type": "execute_result"
    }
   ],
   "source": [
    "plot_y_2"
   ]
  },
  {
   "cell_type": "code",
   "execution_count": 559,
   "metadata": {},
   "outputs": [
    {
     "data": {
      "image/png": "[encoded data removed]",
      "text/plain": [
       "<Figure size 432x288 with 1 Axes>"
      ]
     },
     "metadata": {
      "needs_background": "light"
     },
     "output_type": "display_data"
    }
   ],
   "source": [
    "plt.plot([1,2,3,4], plot_y_1)\n",
    "plt.plot([1,2,3,4], plot_y_2)\n",
    "plt.title('test errors and cv-errors')\n",
    "plt.legend(['cv-error','test-error'])\n",
    "plt.xlabel('d')\n",
    "plt.ylabel('error')\n",
    "plt.show()"
   ]
  },
  {
   "cell_type": "code",
   "execution_count": 578,
   "metadata": {},
   "outputs": [
    {
     "data": {
      "text/plain": [
       "0    1105\n",
       "1    1126\n",
       "2    1151\n",
       "3    1124\n",
       "4    1118\n",
       "5    1122\n",
       "6    1111\n",
       "7    1127\n",
       "8    1124\n",
       "9    1112\n",
       "Name: nSV, dtype: int64"
      ]
     },
     "execution_count": 578,
     "metadata": {},
     "output_type": "execute_result"
    }
   ],
   "source": [
    "da = pd.read_excel('d=1.xlsx')\n",
    "da['nSV']"
   ]
  },
  {
   "cell_type": "code",
   "execution_count": 579,
   "metadata": {},
   "outputs": [],
   "source": [
    "nSV = []\n",
    "nBSV = []\n",
    "for i in range(1,5):\n",
    "\n",
    "    file_name = 'd='+str(i)+'.xlsx'\n",
    "    data = pd.read_excel(file_name)\n",
    "    nSV.append(data['nSV'].mean())\n",
    "    nBSV.append(data['nBSV'].mean())"
   ]
  },
  {
   "cell_type": "code",
   "execution_count": 581,
   "metadata": {},
   "outputs": [
    {
     "data": {
      "image/png": "[encoded data removed]",
      "text/plain": [
       "<Figure size 432x288 with 1 Axes>"
      ]
     },
     "metadata": {
      "needs_background": "light"
     },
     "output_type": "display_data"
    }
   ],
   "source": [
    "plt.plot([1,2,3,4], nSV)\n",
    "plt.plot([1,2,3,4], nBSV)\n",
    "plt.title('Support Vectors and Support Vectors on The Margin')\n",
    "plt.legend(['nSV','nBSV'])\n",
    "plt.xlabel('d')\n",
    "plt.show()"
   ]
  },
  {
   "cell_type": "code",
   "execution_count": null,
   "metadata": {},
   "outputs": [],
   "source": []
  }
 ],
 "metadata": {
  "kernelspec": {
   "display_name": "Python 3",
   "language": "python",
   "name": "python3"
  },
  "language_info": {
   "codemirror_mode": {
    "name": "ipython",
    "version": 3
   },
   "file_extension": ".py",
   "mimetype": "text/x-python",
   "name": "python",
   "nbconvert_exporter": "python",
   "pygments_lexer": "ipython3",
   "version": "3.8.3"
  }
 },
 "nbformat": 4,
 "nbformat_minor": 4
}
